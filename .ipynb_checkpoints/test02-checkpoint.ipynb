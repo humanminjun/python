{
 "cells": [
  {
   "cell_type": "code",
   "execution_count": 4,
   "id": "dea9191e",
   "metadata": {},
   "outputs": [
    {
     "name": "stdout",
     "output_type": "stream",
     "text": [
      "원하는 단은:8\n",
      "8 * 2 = 16\n",
      "8 * 3 = 24\n",
      "8 * 4 = 32\n",
      "8 * 5 = 40\n",
      "8 * 6 = 48\n",
      "8 * 7 = 56\n",
      "8 * 8 = 64\n",
      "8 * 9 = 72\n"
     ]
    }
   ],
   "source": [
    "#while 문을 이용한 구구셈\n",
    "dan = int(input(\"원하는 단은:\"))\n",
    "i = 2\n",
    "\n",
    "while i <= 9:\n",
    "    print(\"%d * %d = %d\" %(dan, i, dan*i))\n",
    "    i = i + 1"
   ]
  },
  {
   "cell_type": "code",
   "execution_count": 8,
   "id": "c822364d",
   "metadata": {},
   "outputs": [
    {
     "ename": "SyntaxError",
     "evalue": "invalid syntax (1559132287.py, line 21)",
     "output_type": "error",
     "traceback": [
      "\u001b[1;36m  Input \u001b[1;32mIn [8]\u001b[1;36m\u001b[0m\n\u001b[1;33m    print(\"정답은,\" answer)\u001b[0m\n\u001b[1;37m                 ^\u001b[0m\n\u001b[1;31mSyntaxError\u001b[0m\u001b[1;31m:\u001b[0m invalid syntax\n"
     ]
    }
   ],
   "source": [
    "# 숫자 맞추기 게임 while 문 과 조건문 \n",
    "import random\n",
    "\n",
    "tries = 0\n",
    "guess = 0\n",
    "answer = random.randint(1, 100)\n",
    "\n",
    "print(\"1부터 100 사이의 숫자를 맞추세요\")\n",
    "\n",
    "while guess != answer:\n",
    "    guess = int(input(\"숫자를 입력하세요:\"))\n",
    "    tries = tries + 1\n",
    "    if guess < answer:\n",
    "        print(\"너무 낮음!\")\n",
    "    elif:\n",
    "        print(\"너무 높음!\")\n",
    "        \n",
    "if guess == answer:\n",
    "    print(\"축하합니다. 시도횟수=\", tries)\n",
    "else:\n",
    "    print(\"정답은,\" answer)\n",
    "        "
   ]
  }
 ],
 "metadata": {
  "kernelspec": {
   "display_name": "Python 3 (ipykernel)",
   "language": "python",
   "name": "python3"
  },
  "language_info": {
   "codemirror_mode": {
    "name": "ipython",
    "version": 3
   },
   "file_extension": ".py",
   "mimetype": "text/x-python",
   "name": "python",
   "nbconvert_exporter": "python",
   "pygments_lexer": "ipython3",
   "version": "3.9.12"
  }
 },
 "nbformat": 4,
 "nbformat_minor": 5
}
