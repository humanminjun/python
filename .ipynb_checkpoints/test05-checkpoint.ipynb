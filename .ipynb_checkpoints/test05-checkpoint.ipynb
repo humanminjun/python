{
 "cells": [
  {
   "cell_type": "code",
   "execution_count": 7,
   "id": "dac36517",
   "metadata": {},
   "outputs": [
    {
     "name": "stdout",
     "output_type": "stream",
     "text": [
      "합은 300\n"
     ]
    }
   ],
   "source": [
    "x = 100\n",
    "y = 200\n",
    "sum = x + y\n",
    "print (\"합은\", sum)"
   ]
  },
  {
   "cell_type": "code",
   "execution_count": 10,
   "id": "db031312",
   "metadata": {},
   "outputs": [
    {
     "name": "stdout",
     "output_type": "stream",
     "text": [
      "반지름: 10 인 원의 면적 = 314.0\n"
     ]
    }
   ],
   "source": [
    "# 원의 면적 계산 프로그램 #\n",
    "radius = 10  \n",
    "\n",
    "area = 3.14 * radius * radius\n",
    "\n",
    "print(\"반지름:\" , radius, \"인 원의 면적 =\", area)"
   ]
  },
  {
   "cell_type": "code",
   "execution_count": 11,
   "id": "72b150f2",
   "metadata": {},
   "outputs": [
    {
     "data": {
      "text/plain": [
       "['False',\n",
       " 'None',\n",
       " 'True',\n",
       " '__peg_parser__',\n",
       " 'and',\n",
       " 'as',\n",
       " 'assert',\n",
       " 'async',\n",
       " 'await',\n",
       " 'break',\n",
       " 'class',\n",
       " 'continue',\n",
       " 'def',\n",
       " 'del',\n",
       " 'elif',\n",
       " 'else',\n",
       " 'except',\n",
       " 'finally',\n",
       " 'for',\n",
       " 'from',\n",
       " 'global',\n",
       " 'if',\n",
       " 'import',\n",
       " 'in',\n",
       " 'is',\n",
       " 'lambda',\n",
       " 'nonlocal',\n",
       " 'not',\n",
       " 'or',\n",
       " 'pass',\n",
       " 'raise',\n",
       " 'return',\n",
       " 'try',\n",
       " 'while',\n",
       " 'with',\n",
       " 'yield']"
      ]
     },
     "execution_count": 11,
     "metadata": {},
     "output_type": "execute_result"
    }
   ],
   "source": [
    "#예약어 확인\n",
    "import keyword\n",
    "keyword.kwlist"
   ]
  },
  {
   "cell_type": "code",
   "execution_count": 12,
   "id": "a1177894",
   "metadata": {},
   "outputs": [
    {
     "data": {
      "text/plain": [
       "int"
      ]
     },
     "execution_count": 12,
     "metadata": {},
     "output_type": "execute_result"
    }
   ],
   "source": [
    "type(1234)"
   ]
  },
  {
   "cell_type": "code",
   "execution_count": 13,
   "id": "43f14c36",
   "metadata": {},
   "outputs": [
    {
     "data": {
      "text/plain": [
       "float"
      ]
     },
     "execution_count": 13,
     "metadata": {},
     "output_type": "execute_result"
    }
   ],
   "source": [
    "type(1.5)"
   ]
  },
  {
   "cell_type": "code",
   "execution_count": 15,
   "id": "4ec47a37",
   "metadata": {},
   "outputs": [
    {
     "data": {
      "text/plain": [
       "float"
      ]
     },
     "execution_count": 15,
     "metadata": {},
     "output_type": "execute_result"
    }
   ],
   "source": [
    "type(111.3)"
   ]
  },
  {
   "cell_type": "code",
   "execution_count": 17,
   "id": "56024af7",
   "metadata": {},
   "outputs": [
    {
     "data": {
      "text/plain": [
       "str"
      ]
     },
     "execution_count": 17,
     "metadata": {},
     "output_type": "execute_result"
    }
   ],
   "source": [
    "type(\"hi\")"
   ]
  },
  {
   "cell_type": "code",
   "execution_count": 18,
   "id": "ed9b5ae2",
   "metadata": {},
   "outputs": [
    {
     "data": {
      "text/plain": [
       "str"
      ]
     },
     "execution_count": 18,
     "metadata": {},
     "output_type": "execute_result"
    }
   ],
   "source": [
    "a=\"5.8\"\n",
    "type(a)"
   ]
  },
  {
   "cell_type": "code",
   "execution_count": 19,
   "id": "845893c9",
   "metadata": {},
   "outputs": [
    {
     "name": "stdout",
     "output_type": "stream",
     "text": [
      "섭씨온도: 37.77777777777778\n"
     ]
    }
   ],
   "source": [
    "#화씨 온도를 받아서 섭씨 온도로 변환\n",
    "ftemp = 100\n",
    "\n",
    "ctemp = (ftemp-32.0)*5.0/9.0\n",
    "print(\"섭씨온도:\", ctemp)"
   ]
  },
  {
   "cell_type": "code",
   "execution_count": 23,
   "id": "18f0b8b7",
   "metadata": {},
   "outputs": [
    {
     "name": "stdout",
     "output_type": "stream",
     "text": [
      "반지름 5 높이= 10 원의 면적= 785.7435\n"
     ]
    }
   ],
   "source": [
    "# 원기둥의 부피 계산\n",
    "#원주율을 나타내는 상수를 정의\n",
    "PI=3.142974\n",
    "\n",
    "#변수를 정의\n",
    "radius = 5\n",
    "height = 10\n",
    "#부피를 계산\n",
    "volume = PI * radius * radius * height\n",
    "#결과를 출력\n",
    "print(\"반지름\", radius, \"높이=\", height, \"원의 면적=\", volume)"
   ]
  },
  {
   "cell_type": "code",
   "execution_count": 30,
   "id": "14311bbb",
   "metadata": {},
   "outputs": [
    {
     "name": "stdout",
     "output_type": "stream",
     "text": [
      "나눗셈의 목 1.0\n",
      "나눗셈의 나머지 3.3\n"
     ]
    }
   ],
   "source": [
    "#나눗셈의 몫과 나머지\n",
    "p = 7.5\n",
    "q = 4.2\n",
    "print(\"나눗셈의 목\", p//q) #소숫점은 잘라버린다 //, 소숫점까지 다 나눈다 /\n",
    "print(\"나눗셈의 나머지\", p%q)\n"
   ]
  }
 ],
 "metadata": {
  "kernelspec": {
   "display_name": "Python 3 (ipykernel)",
   "language": "python",
   "name": "python3"
  },
  "language_info": {
   "codemirror_mode": {
    "name": "ipython",
    "version": 3
   },
   "file_extension": ".py",
   "mimetype": "text/x-python",
   "name": "python",
   "nbconvert_exporter": "python",
   "pygments_lexer": "ipython3",
   "version": "3.9.12"
  }
 },
 "nbformat": 4,
 "nbformat_minor": 5
}
