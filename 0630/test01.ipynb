{
 "cells": [
  {
   "cell_type": "code",
   "execution_count": 1,
   "id": "287d46c9",
   "metadata": {},
   "outputs": [],
   "source": [
    "a=3\n",
    "b=5\n"
   ]
  },
  {
   "cell_type": "markdown",
   "id": "65236555",
   "metadata": {},
   "source": [
    "###제목: 주피터 노트북"
   ]
  },
  {
   "cell_type": "code",
   "execution_count": 2,
   "id": "9f44310e",
   "metadata": {},
   "outputs": [
    {
     "name": "stdout",
     "output_type": "stream",
     "text": [
      "8\n",
      "2\n"
     ]
    }
   ],
   "source": [
    "print(a+b)\n",
    "print(b-a)"
   ]
  },
  {
   "cell_type": "markdown",
   "id": "cfc81b0f",
   "metadata": {},
   "source": [
    "### 발표자 : 송민준"
   ]
  },
  {
   "cell_type": "markdown",
   "id": "44467a4c",
   "metadata": {},
   "source": [
    "### 제목: 주피터 노트북\n"
   ]
  },
  {
   "cell_type": "code",
   "execution_count": null,
   "id": "698dfa6c",
   "metadata": {},
   "outputs": [],
   "source": []
  }
 ],
 "metadata": {
  "kernelspec": {
   "display_name": "Python 3 (ipykernel)",
   "language": "python",
   "name": "python3"
  },
  "language_info": {
   "codemirror_mode": {
    "name": "ipython",
    "version": 3
   },
   "file_extension": ".py",
   "mimetype": "text/x-python",
   "name": "python",
   "nbconvert_exporter": "python",
   "pygments_lexer": "ipython3",
   "version": "3.9.12"
  }
 },
 "nbformat": 4,
 "nbformat_minor": 5
}
