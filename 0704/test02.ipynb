{
 "cells": [
  {
   "cell_type": "code",
   "execution_count": null,
   "id": "b37f2fe3",
   "metadata": {},
   "outputs": [],
   "source": [
    "파이썬의 for 문 특징 - in -> range\n",
    "\n",
    "for i in ran"
   ]
  },
  {
   "cell_type": "code",
   "execution_count": 4,
   "id": "97126571",
   "metadata": {},
   "outputs": [
    {
     "name": "stdout",
     "output_type": "stream",
     "text": [
      "원하는 단은:8\n",
      "8 * 2 = 16\n",
      "8 * 3 = 24\n",
      "8 * 4 = 32\n",
      "8 * 5 = 40\n",
      "8 * 6 = 48\n",
      "8 * 7 = 56\n",
      "8 * 8 = 64\n",
      "8 * 9 = 72\n"
     ]
    }
   ],
   "source": [
    "#while 문을 이용한 구구셈\n",
    "dan = int(input(\"원하는 단은:\"))\n",
    "i = 2\n",
    "\n",
    "while i <= 9:\n",
    "    print(\"%d * %d = %d\" %(dan, i, dan*i))\n",
    "    i = i + 1"
   ]
  }
 ],
 "metadata": {
  "kernelspec": {
   "display_name": "Python 3 (ipykernel)",
   "language": "python",
   "name": "python3"
  },
  "language_info": {
   "codemirror_mode": {
    "name": "ipython",
    "version": 3
   },
   "file_extension": ".py",
   "mimetype": "text/x-python",
   "name": "python",
   "nbconvert_exporter": "python",
   "pygments_lexer": "ipython3",
   "version": "3.9.12"
  }
 },
 "nbformat": 4,
 "nbformat_minor": 5
}
