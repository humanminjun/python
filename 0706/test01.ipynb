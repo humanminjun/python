{
 "cells": [
  {
   "cell_type": "code",
   "execution_count": 1,
   "id": "2e69dc8e",
   "metadata": {},
   "outputs": [],
   "source": [
    "#변수의 내용을 나중에 작성하고자 하는 경우\n",
    "def sub():\n",
    "    pass\n",
    "def sub():\n",
    "    pass"
   ]
  },
  {
   "cell_type": "code",
   "execution_count": 2,
   "id": "87ba25bd",
   "metadata": {},
   "outputs": [
    {
     "ename": "NameError",
     "evalue": "name 'get_area' is not defined",
     "output_type": "error",
     "traceback": [
      "\u001b[1;31m---------------------------------------------------------------------------\u001b[0m",
      "\u001b[1;31mNameError\u001b[0m                                 Traceback (most recent call last)",
      "Input \u001b[1;32mIn [2]\u001b[0m, in \u001b[0;36m<cell line: 2>\u001b[1;34m()\u001b[0m\n\u001b[0;32m      1\u001b[0m \u001b[38;5;66;03m#함수의 실행 순서\u001b[39;00m\n\u001b[1;32m----> 2\u001b[0m result \u001b[38;5;241m=\u001b[39m \u001b[43mget_area\u001b[49m(\u001b[38;5;241m3\u001b[39m)\n\u001b[0;32m      3\u001b[0m \u001b[38;5;28mprint\u001b[39m(\u001b[38;5;124m\"\u001b[39m\u001b[38;5;124m반지름이 3인 원의 면적=\u001b[39m\u001b[38;5;124m\"\u001b[39m, result)\n\u001b[0;32m      5\u001b[0m \u001b[38;5;28;01mdef\u001b[39;00m \u001b[38;5;21mget_area\u001b[39m(radius):\n",
      "\u001b[1;31mNameError\u001b[0m: name 'get_area' is not defined"
     ]
    }
   ],
   "source": [
    "#함수의 실행 순서 - 함수선언이 아래에 있어 오류 발생\n",
    "result = get_area(3)\n",
    "print(\"반지름이 3인 원의 면적=\", result)\n",
    "\n",
    "def get_area(radius):\n",
    "    area = 3.14*radius*2\n",
    "    return area"
   ]
  },
  {
   "cell_type": "code",
   "execution_count": 4,
   "id": "e9a683f0",
   "metadata": {},
   "outputs": [
    {
     "name": "stdout",
     "output_type": "stream",
     "text": [
      "반지름이 3인 원의 면적= 18.84\n"
     ]
    }
   ],
   "source": [
    "#함수의 실행 순서 - 먼저 호출하는 곳에 함수를 선언하고 선언한 함수의 실행은 맨 아래에서 함.\n",
    "\n",
    "def main():\n",
    "    result = get_area(3)\n",
    "    print(\"반지름이 3인 원의 면적=\", result)\n",
    "\n",
    "def get_area(radius):\n",
    "    area = 3.14*radius**2\n",
    "    return area\n",
    "\n",
    "main()"
   ]
  },
  {
   "cell_type": "code",
   "execution_count": 6,
   "id": "470f7207",
   "metadata": {
    "scrolled": true
   },
   "outputs": [
    {
     "name": "stdout",
     "output_type": "stream",
     "text": [
      "20cm 피자 2개의 면적: 2512.0\n",
      "30cm 피자 1개의 면적: 2826.0\n"
     ]
    }
   ],
   "source": [
    "# 피자의 면적을 비교하는 프로그램\n",
    "def main():\n",
    "    print(\"20cm 피자 2개의 면적:\", get_area(20) + get_area(20))\n",
    "    print(\"30cm 피자 1개의 면적:\", get_area(30))\n",
    "\n",
    "#원 면적 계산\n",
    "def get_area(radius):\n",
    "    if radius > 0 :\n",
    "        area = 3.14 * radius ** 2\n",
    "    else:\n",
    "        area = 0\n",
    "    return area\n",
    "\n",
    "main()\n",
    "    "
   ]
  },
  {
   "cell_type": "code",
   "execution_count": 7,
   "id": "0ef31d9c",
   "metadata": {},
   "outputs": [
    {
     "name": "stdout",
     "output_type": "stream",
     "text": [
      "하나의 값으로 호출\n",
      "(10,)\n",
      "여러개의 값으로 호출\n",
      "(10, 20, 30)\n"
     ]
    }
   ],
   "source": [
    "#가변인수(=인자,parameter,argument)\n",
    "def varfunc(*args):\n",
    "    print(args)\n",
    "    \n",
    "print(\"하나의 값으로 호출\")\n",
    "varfunc(10)\n",
    "print(\"여러개의 값으로 호출\")\n",
    "varfunc(10, 20, 30)"
   ]
  },
  {
   "cell_type": "code",
   "execution_count": 10,
   "id": "f3424415",
   "metadata": {},
   "outputs": [
    {
     "name": "stdout",
     "output_type": "stream",
     "text": [
      "Hi Mr.kim\n"
     ]
    }
   ],
   "source": [
    "#가변키워드\n",
    "def myfunc(**kwargs):\n",
    "    result = \"\"\n",
    "    for arg in kwargs.values():\n",
    "        result += arg\n",
    "    return result\n",
    "\n",
    "print(myfunc(a=\"Hi \", b=\"Mr.\", c=\"kim\"))"
   ]
  },
  {
   "cell_type": "code",
   "execution_count": 12,
   "id": "e85c91c6",
   "metadata": {},
   "outputs": [
    {
     "name": "stdout",
     "output_type": "stream",
     "text": [
      "시급을 입력:15000\n",
      "근무시간을 입력5\n",
      "주급 :75000\n"
     ]
    }
   ],
   "source": [
    "#주급을 계산하는 프로그램\n",
    "\n",
    "def weeklyPay(rate, hour):\n",
    "    money = 0\n",
    "    if(hour > 30):\n",
    "        money = rate*30 + 1.5 * rate*(hour - 30)\n",
    "    else:\n",
    "        money = rate*hour\n",
    "    return money\n",
    "\n",
    "rate = int(input(\"시급을 입력:\"))\n",
    "hour = int(input(\"근무시간을 입력\"))\n",
    "print(\"주급 :\" + str(weeklyPay(rate, hour)))"
   ]
  },
  {
   "cell_type": "code",
   "execution_count": 13,
   "id": "88fb89be",
   "metadata": {},
   "outputs": [
    {
     "name": "stdout",
     "output_type": "stream",
     "text": [
      "생일 축하합니다~\n",
      "생일 축하합니다~\n",
      "사랑하는 길동이 의~\n",
      "생일 축하합니다~~!\n"
     ]
    }
   ],
   "source": [
    "#리턴값이 없는 함수\n",
    "def print_birthday(name):\n",
    "    print(\"생일 축하합니다~\")\n",
    "    print(\"생일 축하합니다~\")\n",
    "    print(\"사랑하는\", name,\"의~\")\n",
    "    print(\"생일 축하합니다~~!\")\n",
    "    \n",
    "print_birthday(\"길동이\")\n",
    "    "
   ]
  },
  {
   "cell_type": "code",
   "execution_count": null,
   "id": "99b3b120",
   "metadata": {},
   "outputs": [],
   "source": [
    "#리턴값이 두개이상 가능\n",
    "\n",
    "defr get_info():\n",
    "    name = input(\"이름:\")\n",
    "    age = int(input(\"나이\"))\n",
    "    return name, age\n",
    "\n",
    "st_name, st_age = get_info()\n",
    "print(\"이름은\", st_name, \"이고 나이는\", st_age, \"살입니다.\")"
   ]
  }
 ],
 "metadata": {
  "kernelspec": {
   "display_name": "Python 3 (ipykernel)",
   "language": "python",
   "name": "python3"
  },
  "language_info": {
   "codemirror_mode": {
    "name": "ipython",
    "version": 3
   },
   "file_extension": ".py",
   "mimetype": "text/x-python",
   "name": "python",
   "nbconvert_exporter": "python",
   "pygments_lexer": "ipython3",
   "version": "3.9.12"
  }
 },
 "nbformat": 4,
 "nbformat_minor": 5
}
